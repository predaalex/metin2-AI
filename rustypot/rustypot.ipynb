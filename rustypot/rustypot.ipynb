{
 "cells": [
  {
   "metadata": {
    "ExecuteTime": {
     "end_time": "2025-03-18T07:07:22.871128Z",
     "start_time": "2025-03-18T07:07:22.765514Z"
    }
   },
   "cell_type": "code",
   "source": [
    "import builtins\n",
    "\n",
    "from selenium import webdriver\n",
    "from selenium.common import TimeoutException\n",
    "from selenium.webdriver.common.by import By\n",
    "from selenium.webdriver.support.ui import WebDriverWait\n",
    "from selenium.webdriver.support import expected_conditions as EC\n",
    "from selenium.webdriver.edge.service import Service\n",
    "from itertools import combinations\n",
    "from datetime import datetime\n",
    "\n",
    "import time"
   ],
   "id": "1f32d80b10f1f485",
   "outputs": [],
   "execution_count": 1
  },
  {
   "metadata": {
    "ExecuteTime": {
     "end_time": "2025-03-18T07:07:22.887385Z",
     "start_time": "2025-03-18T07:07:22.872125Z"
    }
   },
   "cell_type": "code",
   "source": [
    "def print(*args, **kwargs):\n",
    "    timestamp = datetime.now().strftime(\"%Y-%m-%d %H:%M:%S\")\n",
    "    builtins.print(f\"[{timestamp}] \", *args, **kwargs)"
   ],
   "id": "ceb9165e89dfecff",
   "outputs": [],
   "execution_count": 2
  },
  {
   "cell_type": "code",
   "id": "initial_id",
   "metadata": {
    "collapsed": true,
    "ExecuteTime": {
     "end_time": "2025-03-18T07:07:23.993100Z",
     "start_time": "2025-03-18T07:07:22.888384Z"
    }
   },
   "source": [
    "EDGE_DRIVER_PATH = \"edgedriver_win32/msedgedriver.exe\"\n",
    "driver = webdriver.Edge(service=Service(EDGE_DRIVER_PATH))"
   ],
   "outputs": [],
   "execution_count": 3
  },
  {
   "metadata": {
    "ExecuteTime": {
     "end_time": "2025-03-18T07:07:24.007871Z",
     "start_time": "2025-03-18T07:07:23.994096Z"
    }
   },
   "cell_type": "code",
   "source": "wait = WebDriverWait(driver, 10)",
   "id": "5c8004117d755f86",
   "outputs": [],
   "execution_count": 4
  },
  {
   "metadata": {
    "ExecuteTime": {
     "end_time": "2025-03-18T07:07:24.845230Z",
     "start_time": "2025-03-18T07:07:24.009527Z"
    }
   },
   "cell_type": "code",
   "source": "driver.get(\"https://rustypot.com/coinflip\")",
   "id": "fab21f6da5a052a4",
   "outputs": [],
   "execution_count": 5
  },
  {
   "metadata": {
    "ExecuteTime": {
     "end_time": "2025-03-18T21:58:36.050570Z",
     "start_time": "2025-03-18T21:58:36.043078Z"
    }
   },
   "cell_type": "code",
   "source": [
    "def get_possible_bet_values(inventory_items_values, max_items=3):\n",
    "    possible_bet_values = {}\n",
    "    for r in range(1, max_items):\n",
    "        for combo in combinations(inventory_items_values, r):\n",
    "            s = sum(combo)\n",
    "            max_tax = s * 2 * 0.05\n",
    "            good_combo = True\n",
    "            for item_value in combo:\n",
    "                if item_value < max_tax:\n",
    "                    good_combo = False\n",
    "            if good_combo:\n",
    "                possible_bet_values[s] = list(combo)\n",
    "    possible_bet_values_sorted = dict(sorted(possible_bet_values.items()))\n",
    "    \n",
    "    return possible_bet_values_sorted"
   ],
   "id": "acb11f21ba321d7",
   "outputs": [],
   "execution_count": 56
  },
  {
   "metadata": {
    "ExecuteTime": {
     "end_time": "2025-03-18T21:58:36.832545Z",
     "start_time": "2025-03-18T21:58:36.815565Z"
    }
   },
   "cell_type": "code",
   "source": [
    "def get_inventory_items():\n",
    "    create_a_game_buttom = WebDriverWait(driver, 10).until(\n",
    "        EC.element_to_be_clickable((By.CLASS_NAME, \"createCoinflipButton\"))\n",
    "    )\n",
    "    create_a_game_buttom.click()\n",
    "    \n",
    "    try:\n",
    "        inventory_items = WebDriverWait(driver, 10).until(\n",
    "            EC.presence_of_all_elements_located((By.CLASS_NAME, \"InventoryItem\"))\n",
    "        )\n",
    "        \n",
    "        # inventory_items = inventory_items_div.find_elements(By.CLASS_NAME, \"InventoryItem\")\n",
    "        inventory_items_values = []\n",
    "        for inventory_item in inventory_items:\n",
    "            inventory_items_values.append(float(inventory_item.text[1:]))\n",
    "        \n",
    "        driver.get(\"https://rustypot.com/coinflip\")\n",
    "\n",
    "        print(\"inventory items gathered: \", inventory_items_values)\n",
    "        \n",
    "        return inventory_items_values\n",
    "    except TimeoutException:\n",
    "        print(f\"Timed out waiting for inventory items\")\n",
    "        driver.get(\"https://rustypot.com/coinflip\")\n",
    "        get_inventory_items()"
   ],
   "id": "10b01725b14804e6",
   "outputs": [],
   "execution_count": 57
  },
  {
   "metadata": {
    "ExecuteTime": {
     "end_time": "2025-03-18T21:58:37.674168Z",
     "start_time": "2025-03-18T21:58:37.667446Z"
    }
   },
   "cell_type": "code",
   "source": [
    "inventory_items_values = [62.31, 31.75, 31.75, 20.86, 17.38, 13.34, 13.34]\n",
    "\n",
    "# inventory_items = [i for i in range(1, 21, 3)]\n",
    "possible_bet_values = get_possible_bet_values(inventory_items_values)\n",
    "possible_bet_values"
   ],
   "id": "dec48393617e82d1",
   "outputs": [
    {
     "data": {
      "text/plain": [
       "{13.34: [13.34],\n",
       " 17.38: [17.38],\n",
       " 20.86: [20.86],\n",
       " 26.68: [13.34, 13.34],\n",
       " 30.72: [17.38, 13.34],\n",
       " 31.75: [31.75],\n",
       " 34.2: [20.86, 13.34],\n",
       " 38.239999999999995: [20.86, 17.38],\n",
       " 45.09: [31.75, 13.34],\n",
       " 49.129999999999995: [31.75, 17.38],\n",
       " 52.61: [31.75, 20.86],\n",
       " 62.31: [62.31],\n",
       " 63.5: [31.75, 31.75],\n",
       " 75.65: [62.31, 13.34],\n",
       " 79.69: [62.31, 17.38],\n",
       " 83.17: [62.31, 20.86],\n",
       " 94.06: [62.31, 31.75]}"
      ]
     },
     "execution_count": 58,
     "metadata": {},
     "output_type": "execute_result"
    }
   ],
   "execution_count": 58
  },
  {
   "metadata": {
    "ExecuteTime": {
     "end_time": "2025-03-18T21:58:40.049052Z",
     "start_time": "2025-03-18T21:58:38.535972Z"
    }
   },
   "cell_type": "code",
   "source": [
    "inventory_items_values = get_inventory_items()\n",
    "        \n",
    "possible_bet_values = get_possible_bet_values(inventory_items_values)\n",
    "print(possible_bet_values)"
   ],
   "id": "fa49c77554a4e9f7",
   "outputs": [
    {
     "name": "stdout",
     "output_type": "stream",
     "text": [
      "[2025-03-18 23:58:40]  inventory items gathered:  [61.33, 31.75, 20.89, 7.04, 5.67, 5.51, 5.1, 4.91, 4.43, 4.33, 3.72, 2.39, 2.39, 2.39, 2.39, 2.39, 2.39, 2.39, 2.39, 2.39, 2.39, 2.39]\n",
      "[2025-03-18 23:58:40]  {2.39: [2.39], 3.72: [3.72], 4.33: [4.33], 4.43: [4.43], 4.78: [2.39, 2.39], 4.91: [4.91], 5.1: [5.1], 5.51: [5.51], 5.67: [5.67], 6.11: [3.72, 2.39], 6.720000000000001: [4.33, 2.39], 6.82: [4.43, 2.39], 7.04: [7.04], 7.300000000000001: [4.91, 2.39], 7.49: [5.1, 2.39], 7.9: [5.51, 2.39], 8.05: [4.33, 3.72], 8.06: [5.67, 2.39], 8.15: [4.43, 3.72], 8.63: [4.91, 3.72], 8.76: [4.43, 4.33], 8.82: [5.1, 3.72], 9.23: [5.51, 3.72], 9.24: [4.91, 4.33], 9.34: [4.91, 4.43], 9.39: [5.67, 3.72], 9.43: [5.1, 4.33], 9.53: [5.1, 4.43], 9.84: [5.51, 4.33], 9.94: [5.51, 4.43], 10.0: [5.67, 4.33], 10.01: [5.1, 4.91], 10.1: [5.67, 4.43], 10.42: [5.51, 4.91], 10.58: [5.67, 4.91], 10.61: [5.51, 5.1], 10.76: [7.04, 3.72], 10.77: [5.67, 5.1], 11.18: [5.67, 5.51], 11.370000000000001: [7.04, 4.33], 11.469999999999999: [7.04, 4.43], 11.95: [7.04, 4.91], 12.14: [7.04, 5.1], 12.55: [7.04, 5.51], 12.71: [7.04, 5.67], 20.89: [20.89], 23.28: [20.89, 2.39], 24.61: [20.89, 3.72], 25.22: [20.89, 4.33], 25.32: [20.89, 4.43], 25.8: [20.89, 4.91], 25.990000000000002: [20.89, 5.1], 26.4: [20.89, 5.51], 26.560000000000002: [20.89, 5.67], 27.93: [20.89, 7.04], 31.75: [31.75], 35.47: [31.75, 3.72], 36.08: [31.75, 4.33], 36.18: [31.75, 4.43], 36.66: [31.75, 4.91], 36.85: [31.75, 5.1], 37.26: [31.75, 5.51], 37.42: [31.75, 5.67], 38.79: [31.75, 7.04], 52.64: [31.75, 20.89], 61.33: [61.33], 68.37: [61.33, 7.04], 82.22: [61.33, 20.89], 93.08: [61.33, 31.75]}\n"
     ]
    }
   ],
   "execution_count": 59
  },
  {
   "metadata": {
    "ExecuteTime": {
     "end_time": "2025-03-18T22:03:29.849661Z",
     "start_time": "2025-03-18T21:58:46.686312Z"
    }
   },
   "cell_type": "code",
   "source": [
    "bets = []\n",
    "counter = 0\n",
    "\n",
    "inventory_items_values = get_inventory_items()\n",
    "        \n",
    "possible_bet_values = get_possible_bet_values(inventory_items_values)\n",
    "\n",
    "while True:\n",
    "\n",
    "    active_coinflips = wait.until(EC.presence_of_element_located((By.CLASS_NAME, \"ActiveCoinflips\")))\n",
    "    coinflip_row_divs = active_coinflips.find_elements(By.CLASS_NAME, \"coinflip\")\n",
    "    \n",
    "    # print(f\"{len(coinflip_divs)} active games\")\n",
    "    for coinflip_div in coinflip_row_divs:\n",
    "        coinflip_value = float(coinflip_div.get_attribute(\"coinflip-value\"))\n",
    "        coinflip_items = coinflip_div.find_element(By.CLASS_NAME, \"coinflipGameItems\")\n",
    "        \n",
    "        if \"items\" in coinflip_items.text:\n",
    "            # print(\"more than 5 items...\")\n",
    "            continue\n",
    "            \n",
    "        img_elements = coinflip_items.find_elements(By.TAG_NAME, \"img\")\n",
    "        \n",
    "        coinflip_items_values = []\n",
    "        for img in img_elements:\n",
    "            title = img.get_attribute(\"data-original-title\")\n",
    "            if \"|\" in title:\n",
    "                price_str = title.split(\"$\")[-1]\n",
    "                price = float(price_str)\n",
    "                coinflip_items_values.append(price)\n",
    "    \n",
    "        possible_tax_value = coinflip_value * 2 * 0.05\n",
    "        cheapest_item_value = coinflip_items_values[-1]\n",
    "        \n",
    "        if cheapest_item_value < possible_tax_value:\n",
    "            # print(f\"not profitable\")\n",
    "            continue\n",
    "            \n",
    "        # to join a cf, i need to deposit minimum value\n",
    "        for bet_value in possible_bet_values:\n",
    "            if  coinflip_value * 0.9 < bet_value < coinflip_value * 0.92 and coinflip_value not in bets and coinflip_value < 15.0:\n",
    "                \n",
    "                ### PRESS JOIN ON SELECTED BET ###\n",
    "                join_button = coinflip_div.find_element(By.TAG_NAME, \"button\")\n",
    "                if \"Join\" in join_button.text:\n",
    "                    join_button.click()\n",
    "                else:\n",
    "                    continue\n",
    "                ### PRESS JOIN ON SELECTED BET ###\n",
    "                \n",
    "                \n",
    "                ### SELECT THE ITEMS ###\n",
    "                inventory_items_div_locator = (By.CLASS_NAME, \"depositInventory\")\n",
    "                inventory_items_div = WebDriverWait(driver, 10).until(\n",
    "                    EC.presence_of_element_located(inventory_items_div_locator)\n",
    "                )\n",
    "                \n",
    "                try:\n",
    "                    inventory_items_locator = (By.CLASS_NAME, \"InventoryItem\")\n",
    "                    inventory_items = WebDriverWait(driver, 3).until(\n",
    "                        EC.presence_of_all_elements_located(inventory_items_locator)\n",
    "                    )\n",
    "                    \n",
    "                    inventory_items_values = []\n",
    "                    for inventory_item in inventory_items:\n",
    "                        item_value = float(inventory_item.text[1:])\n",
    "                        if item_value in possible_bet_values[bet_value]:\n",
    "                            inventory_item.click()\n",
    "                            possible_bet_values[bet_value].remove(item_value)\n",
    "\n",
    "                except TimeoutException:\n",
    "                    print(f\"Timed out waiting for inventory items\")\n",
    "                    driver.get(\"https://rustypot.com/coinflip\")\n",
    "                    \n",
    "                deposit_button = WebDriverWait(driver, 10).until(\n",
    "                EC.element_to_be_clickable((By.XPATH, \"//button[@onclick='requestCfDeposit()']\"))\n",
    "                )\n",
    "                deposit_button.click()\n",
    "                ### SELECT THE ITEMS ###\n",
    "                \n",
    "                ### DEPOSIT AND CLOSE STEAM WINDOW ###\n",
    "                accept_button = WebDriverWait(driver, 10).until(\n",
    "                    EC.element_to_be_clickable((By.XPATH, \"//button[@onclick='closeAcceptDeposit()']\"))\n",
    "                )\n",
    "                accept_button.click()\n",
    "                \n",
    "                # Step 2: Wait for the new window/tab to open\n",
    "                WebDriverWait(driver, 10).until(lambda d: len(d.window_handles) > 1)\n",
    "                \n",
    "                # Step 3: Switch to the new window\n",
    "                original_window = driver.current_window_handle\n",
    "                new_window = [w for w in driver.window_handles if w != original_window][0]\n",
    "                driver.switch_to.window(new_window)\n",
    "                \n",
    "                \n",
    "                try:\n",
    "                    warning_element = WebDriverWait(driver, 3).until(\n",
    "                        EC.presence_of_element_located((\n",
    "                            By.XPATH,\n",
    "                            \"//*[contains(., 'have reported Blown for attempting trade scams')]\"\n",
    "                        ))\n",
    "                    )\n",
    "                    ok_button = WebDriverWait(driver, 3).until(\n",
    "                        EC.element_to_be_clickable((\n",
    "                            By.XPATH,\n",
    "                            \"//div[contains(@class, 'btn_grey_steamui') and span[text()='OK']]\"\n",
    "                            ))\n",
    "                    )\n",
    "                    ok_button.click()\n",
    "                except TimeoutException:\n",
    "                    print(f\"no report appeared\")\n",
    "\n",
    "                \n",
    "                confirm_button = WebDriverWait(driver, 10).until(\n",
    "                    EC.presence_of_element_located((By.XPATH, \"//div[contains(@class, 'content') and contains(text(), 'Confirm trade contents')]\"))\n",
    "                )\n",
    "                confirm_button.click()\n",
    "                time.sleep(1)\n",
    "                \n",
    "                \n",
    "                confirm_gift_button = WebDriverWait(driver, 10).until(\n",
    "                    EC.element_to_be_clickable((By.XPATH, \"//div[span[text()='Yes, this is a gift']]\"))\n",
    "                )\n",
    "                confirm_gift_button.click()\n",
    "                time.sleep(1)\n",
    "                \n",
    "                \n",
    "                accept_trade_btn = WebDriverWait(driver, 10).until(\n",
    "                    EC.element_to_be_clickable((By.ID, \"trade_confirmbtn\"))\n",
    "                )\n",
    "                accept_trade_btn.click()\n",
    "                time.sleep(1)\n",
    "                \n",
    "                driver.close()\n",
    "                driver.switch_to.window(original_window)\n",
    "                \n",
    "                ### DEPOSIT AND CLOSE STEAM WINDOW ###\n",
    "                \n",
    "                print(f\"{coinflip_value=} -> \"\n",
    "                      f\"{coinflip_items_values=} -> \"\n",
    "                      f\"Bet items= {possible_bet_values[bet_value]}\")\n",
    "                \n",
    "                bets.append(coinflip_value)\n",
    "                \n",
    "                view_button = coinflip_div.find_element(By.XPATH, \".//button[text()='View']\")\n",
    "                view_button.click()\n",
    "                \n",
    "                \n",
    "                # Wait until the <p> inside #fliper-coin disappears\n",
    "                try:\n",
    "                    p_element = driver.find_element(By.CSS_SELECTOR, \"#fliper-coin > p\")\n",
    "                    WebDriverWait(driver, 120).until(EC.staleness_of(p_element))\n",
    "                except:\n",
    "                    # If <p> is already gone, just wait for the new state\n",
    "                    pass\n",
    "                \n",
    "                WebDriverWait(driver, 120).until(\n",
    "                    EC.presence_of_element_located((By.CSS_SELECTOR, \"#fliper-coin .flipper\"))\n",
    "                )\n",
    "\n",
    "                \n",
    "                ### wait to check if win or lost ###\n",
    "                \n",
    "                # Wait for the parent div to appear\n",
    "                creator_div = WebDriverWait(driver, 10).until(EC.presence_of_element_located((By.CLASS_NAME, \"creator-imgs\")))\n",
    "                \n",
    "                # Wait for the child img.pick within that div\n",
    "                color_img = WebDriverWait(driver, 10).until(lambda d: creator_div.find_element(By.XPATH, \".//img[@class='pick']\"))\n",
    "                \n",
    "                # Get the src\n",
    "                src = color_img.get_attribute(\"src\")\n",
    "                \n",
    "                # Extract the color from the filename\n",
    "                if \"Red\" in src:\n",
    "                    creator_color = \"Red\"\n",
    "                elif \"Black\" in src:\n",
    "                    creator_color = \"Black\"\n",
    "                else:\n",
    "                    creator_color = \"Unknown\"\n",
    "                # extract flip color\n",
    "                \n",
    "                # 1. Get the 'flipper' element\n",
    "                flipper = driver.find_element(By.CLASS_NAME, \"flipper\")\n",
    "                \n",
    "                # 2. Get the 'transform' style attribute\n",
    "                transform_style = flipper.get_attribute(\"style\")  # e.g. \"transform: rotateY(1620deg);\"\n",
    "                \n",
    "                # 3. Extract the degree\n",
    "                import re\n",
    "                match = re.search(r'rotateY\\((\\d+)deg\\)', transform_style)\n",
    "                if match:\n",
    "                    degrees = int(match.group(1))\n",
    "                    # Normalize the rotation within 360°\n",
    "                    final_angle = degrees % 360\n",
    "                \n",
    "                    # Every 180° flips the face, so even number of 180s = same side\n",
    "                    flips = (degrees // 180) % 2\n",
    "                \n",
    "                    flip_face = \"Red\" if flips == 1 else \"Black\"\n",
    "                    print(\"Coin landed on:\", flip_face)\n",
    "                else:\n",
    "                    flip_face = \"Couldn't determine coin face.\"\n",
    "                    print(flip_face)\n",
    "\n",
    "                # extract flip color\n",
    "                \n",
    "                if creator_color == flip_face:\n",
    "                    print(f\"flip was lost!\")\n",
    "                else:\n",
    "                    print(f\"flip was won!\")\n",
    "    \n",
    "                time.sleep(10)\n",
    "                \n",
    "                ### wait to check if win or lost ###\n",
    "                driver.get(\"https://rustypot.com/coinflip\")\n",
    "                inventory_items_values = get_inventory_items()\n",
    "        \n",
    "                possible_bet_values = get_possible_bet_values(inventory_items_values)\n",
    "                \n",
    "                break\n",
    "        # print(f\"{coinflip_value=} -> {possible_tax_value=:.2f} -> {cheapest_item_value=:.2f}\")\n",
    "    counter += 1\n",
    "    # if counter % 100 == 0:\n",
    "    #     print(\"active - \", counter)\n",
    "    time.sleep(1)"
   ],
   "id": "5d153c197bcd8aa",
   "outputs": [
    {
     "name": "stdout",
     "output_type": "stream",
     "text": [
      "[2025-03-18 23:58:48]  inventory items gathered:  [61.33, 31.75, 20.89, 7.04, 5.67, 5.51, 5.1, 4.91, 4.43, 4.33, 3.72, 2.39, 2.39, 2.39, 2.39, 2.39, 2.39, 2.39, 2.39, 2.39, 2.39, 2.39]\n",
      "[2025-03-19 00:01:43]  no report appeared\n",
      "[2025-03-19 00:01:46]  coinflip_value=5.45 -> coinflip_items_values=[1.3, 1.3, 1.17, 0.92, 0.76] -> Bet items= []\n",
      "[2025-03-19 00:02:02]  Coin landed on: Black\n",
      "[2025-03-19 00:02:02]  flip was won!\n",
      "[2025-03-19 00:02:15]  inventory items gathered:  [61.33, 31.75, 20.89, 7.04, 5.67, 5.51, 5.1, 4.43, 4.33, 3.72, 2.39, 2.39, 2.39, 2.39, 2.39, 2.39, 2.39, 2.39, 2.39, 2.39, 2.39]\n",
      "[2025-03-19 00:02:55]  no report appeared\n",
      "[2025-03-19 00:02:59]  coinflip_value=5.65 -> coinflip_items_values=[4.11, 1.54] -> Bet items= []\n",
      "[2025-03-19 00:03:13]  Coin landed on: Red\n",
      "[2025-03-19 00:03:13]  flip was lost!\n",
      "[2025-03-19 00:03:26]  inventory items gathered:  [61.33, 31.75, 20.89, 7.04, 5.67, 5.51, 4.91, 4.43, 4.33, 3.72, 2.39, 2.39, 2.39, 2.39, 2.39, 2.39, 2.39, 2.39, 2.39, 2.39, 2.39, 1.3, 1.3, 1.17, 0.92, 0.76]\n"
     ]
    },
    {
     "ename": "KeyboardInterrupt",
     "evalue": "",
     "output_type": "error",
     "traceback": [
      "\u001B[1;31m---------------------------------------------------------------------------\u001B[0m",
      "\u001B[1;31mKeyboardInterrupt\u001B[0m                         Traceback (most recent call last)",
      "Cell \u001B[1;32mIn[60], line 225\u001B[0m\n\u001B[0;32m    222\u001B[0m counter \u001B[38;5;241m+\u001B[39m\u001B[38;5;241m=\u001B[39m \u001B[38;5;241m1\u001B[39m\n\u001B[0;32m    223\u001B[0m \u001B[38;5;66;03m# if counter % 100 == 0:\u001B[39;00m\n\u001B[0;32m    224\u001B[0m \u001B[38;5;66;03m#     print(\"active - \", counter)\u001B[39;00m\n\u001B[1;32m--> 225\u001B[0m \u001B[43mtime\u001B[49m\u001B[38;5;241;43m.\u001B[39;49m\u001B[43msleep\u001B[49m\u001B[43m(\u001B[49m\u001B[38;5;241;43m1\u001B[39;49m\u001B[43m)\u001B[49m\n",
      "\u001B[1;31mKeyboardInterrupt\u001B[0m: "
     ]
    }
   ],
   "execution_count": 60
  },
  {
   "metadata": {
    "ExecuteTime": {
     "end_time": "2025-03-18T21:09:45.299855Z",
     "start_time": "2025-03-18T21:09:45.284029Z"
    }
   },
   "cell_type": "code",
   "source": "driver.switch_to.window(original_window)",
   "id": "b3f76d6b0de8c0da",
   "outputs": [],
   "execution_count": 48
  },
  {
   "metadata": {
    "ExecuteTime": {
     "end_time": "2025-03-17T21:02:12.319582Z",
     "start_time": "2025-03-17T21:02:02.077825Z"
    }
   },
   "cell_type": "code",
   "source": [
    "confirm_button = WebDriverWait(driver, 10).until(\n",
    "                    EC.presence_of_element_located((By.XPATH, \"//div[contains(@class, 'content') and contains(text(), 'Confirm trade contents')]\"))\n",
    "                )\n",
    "confirm_button.click()"
   ],
   "id": "244defca6d9e77e0",
   "outputs": [
    {
     "ename": "TimeoutException",
     "evalue": "Message: \nStacktrace:\n\tGetHandleVerifier [0x00910E93+39155]\n\tMicrosoft::Applications::Events::time_ticks_t::time_ticks_t [0x007AE3B6+772070]\n\tMicrosoft::Applications::Events::ILogConfiguration::operator* [0x005648EE+5182]\n\tMicrosoft::Applications::Events::GUID_t::GUID_t [0x0059998A+105610]\n\tMicrosoft::Applications::Events::GUID_t::GUID_t [0x00599C7A+106362]\n\tMicrosoft::Applications::Events::GUID_t::GUID_t [0x005C9B92+302738]\n\tMicrosoft::Applications::Events::GUID_t::GUID_t [0x005B1EC4+205252]\n\tMicrosoft::Applications::Events::GUID_t::GUID_t [0x00593091+78737]\n\tMicrosoft::Applications::Events::GUID_t::GUID_t [0x005C8530+297008]\n\tMicrosoft::Applications::Events::GUID_t::GUID_t [0x005B1B86+204422]\n\tMicrosoft::Applications::Events::GUID_t::GUID_t [0x00592947+76871]\n\tMicrosoft::Applications::Events::GUID_t::GUID_t [0x00591CF5+73717]\n\tMicrosoft::Applications::Events::GUID_t::GUID_t [0x00592764+76388]\n\tsqlite3_dbdata_init [0x00A165BC+589708]\n\tMicrosoft::Applications::Events::FromJSON [0x00AE0473+699091]\n\tMicrosoft::Applications::Events::FromJSON [0x00ADFDE5+697413]\n\tMicrosoft::Applications::Events::FromJSON [0x00AD1F1C+640380]\n\tMicrosoft::Applications::Events::FromJSON [0x00AE0C1F+701055]\n\tMicrosoft::Applications::Events::time_ticks_t::time_ticks_t [0x007C4CAD+864477]\n\tMicrosoft::Applications::Events::time_ticks_t::time_ticks_t [0x007B7DE8+811544]\n\tMicrosoft::Applications::Events::time_ticks_t::time_ticks_t [0x007B7FD4+812036]\n\tMicrosoft::Applications::Events::time_ticks_t::time_ticks_t [0x0079EB35+708453]\n\tBaseThreadInitThunk [0x760D7BA9+25]\n\tRtlInitializeExceptionChain [0x76F4C28B+107]\n\tRtlClearBits [0x76F4C20F+191]\n",
     "output_type": "error",
     "traceback": [
      "\u001B[1;31m---------------------------------------------------------------------------\u001B[0m",
      "\u001B[1;31mTimeoutException\u001B[0m                          Traceback (most recent call last)",
      "Cell \u001B[1;32mIn[216], line 1\u001B[0m\n\u001B[1;32m----> 1\u001B[0m confirm_button \u001B[38;5;241m=\u001B[39m \u001B[43mWebDriverWait\u001B[49m\u001B[43m(\u001B[49m\u001B[43mdriver\u001B[49m\u001B[43m,\u001B[49m\u001B[43m \u001B[49m\u001B[38;5;241;43m10\u001B[39;49m\u001B[43m)\u001B[49m\u001B[38;5;241;43m.\u001B[39;49m\u001B[43muntil\u001B[49m\u001B[43m(\u001B[49m\n\u001B[0;32m      2\u001B[0m \u001B[43m                    \u001B[49m\u001B[43mEC\u001B[49m\u001B[38;5;241;43m.\u001B[39;49m\u001B[43mpresence_of_element_located\u001B[49m\u001B[43m(\u001B[49m\u001B[43m(\u001B[49m\u001B[43mBy\u001B[49m\u001B[38;5;241;43m.\u001B[39;49m\u001B[43mXPATH\u001B[49m\u001B[43m,\u001B[49m\u001B[43m \u001B[49m\u001B[38;5;124;43m\"\u001B[39;49m\u001B[38;5;124;43m//div[contains(@class, \u001B[39;49m\u001B[38;5;124;43m'\u001B[39;49m\u001B[38;5;124;43mcontent\u001B[39;49m\u001B[38;5;124;43m'\u001B[39;49m\u001B[38;5;124;43m) and contains(text(), \u001B[39;49m\u001B[38;5;124;43m'\u001B[39;49m\u001B[38;5;124;43mConfirm trade contents\u001B[39;49m\u001B[38;5;124;43m'\u001B[39;49m\u001B[38;5;124;43m)]\u001B[39;49m\u001B[38;5;124;43m\"\u001B[39;49m\u001B[43m)\u001B[49m\u001B[43m)\u001B[49m\n\u001B[0;32m      3\u001B[0m \u001B[43m                \u001B[49m\u001B[43m)\u001B[49m\n\u001B[0;32m      4\u001B[0m confirm_button\u001B[38;5;241m.\u001B[39mclick()\n",
      "File \u001B[1;32m~\\miniconda3\\envs\\CV\\lib\\site-packages\\selenium\\webdriver\\support\\wait.py:105\u001B[0m, in \u001B[0;36mWebDriverWait.until\u001B[1;34m(self, method, message)\u001B[0m\n\u001B[0;32m    103\u001B[0m     \u001B[38;5;28;01mif\u001B[39;00m time\u001B[38;5;241m.\u001B[39mmonotonic() \u001B[38;5;241m>\u001B[39m end_time:\n\u001B[0;32m    104\u001B[0m         \u001B[38;5;28;01mbreak\u001B[39;00m\n\u001B[1;32m--> 105\u001B[0m \u001B[38;5;28;01mraise\u001B[39;00m TimeoutException(message, screen, stacktrace)\n",
      "\u001B[1;31mTimeoutException\u001B[0m: Message: \nStacktrace:\n\tGetHandleVerifier [0x00910E93+39155]\n\tMicrosoft::Applications::Events::time_ticks_t::time_ticks_t [0x007AE3B6+772070]\n\tMicrosoft::Applications::Events::ILogConfiguration::operator* [0x005648EE+5182]\n\tMicrosoft::Applications::Events::GUID_t::GUID_t [0x0059998A+105610]\n\tMicrosoft::Applications::Events::GUID_t::GUID_t [0x00599C7A+106362]\n\tMicrosoft::Applications::Events::GUID_t::GUID_t [0x005C9B92+302738]\n\tMicrosoft::Applications::Events::GUID_t::GUID_t [0x005B1EC4+205252]\n\tMicrosoft::Applications::Events::GUID_t::GUID_t [0x00593091+78737]\n\tMicrosoft::Applications::Events::GUID_t::GUID_t [0x005C8530+297008]\n\tMicrosoft::Applications::Events::GUID_t::GUID_t [0x005B1B86+204422]\n\tMicrosoft::Applications::Events::GUID_t::GUID_t [0x00592947+76871]\n\tMicrosoft::Applications::Events::GUID_t::GUID_t [0x00591CF5+73717]\n\tMicrosoft::Applications::Events::GUID_t::GUID_t [0x00592764+76388]\n\tsqlite3_dbdata_init [0x00A165BC+589708]\n\tMicrosoft::Applications::Events::FromJSON [0x00AE0473+699091]\n\tMicrosoft::Applications::Events::FromJSON [0x00ADFDE5+697413]\n\tMicrosoft::Applications::Events::FromJSON [0x00AD1F1C+640380]\n\tMicrosoft::Applications::Events::FromJSON [0x00AE0C1F+701055]\n\tMicrosoft::Applications::Events::time_ticks_t::time_ticks_t [0x007C4CAD+864477]\n\tMicrosoft::Applications::Events::time_ticks_t::time_ticks_t [0x007B7DE8+811544]\n\tMicrosoft::Applications::Events::time_ticks_t::time_ticks_t [0x007B7FD4+812036]\n\tMicrosoft::Applications::Events::time_ticks_t::time_ticks_t [0x0079EB35+708453]\n\tBaseThreadInitThunk [0x760D7BA9+25]\n\tRtlInitializeExceptionChain [0x76F4C28B+107]\n\tRtlClearBits [0x76F4C20F+191]\n"
     ]
    }
   ],
   "execution_count": 216
  },
  {
   "metadata": {
    "ExecuteTime": {
     "end_time": "2025-03-18T16:42:46.702276Z",
     "start_time": "2025-03-18T16:42:43.653832Z"
    }
   },
   "cell_type": "code",
   "source": [
    "WebDriverWait(driver, 120).until(\n",
    "    EC.invisibility_of_element_located((By.CSS_SELECTOR, \"#fliper-coin > p\"))\n",
    ")\n",
    "\n",
    "### wait to check if win or lost ###\n",
    "\n",
    "# wait to flip the coin\n",
    "time.sleep(3)\n",
    "\n",
    "# extract our color \n",
    "creator_div = driver.find_element(By.CLASS_NAME, \"creator-imgs\")\n",
    "color_img = creator_div.find_element(By.XPATH, \"//img[@class='pick']\")\n",
    "src = color_img.get_attribute(\"src\")\n",
    "\n",
    "# Extract the color from the filename\n",
    "if \"Red\" in src:\n",
    "    creator_color = \"Red\"\n",
    "elif \"Black\" in src:\n",
    "    creator_color = \"Black\"\n",
    "else:\n",
    "    creator_color = \"Unknown\"\n",
    "# extract flip color\n",
    "\n",
    "# 1. Get the 'flipper' element\n",
    "flipper = driver.find_element(By.CLASS_NAME, \"flipper\")\n",
    "\n",
    "# 2. Get the 'transform' style attribute\n",
    "transform_style = flipper.get_attribute(\"style\")  # e.g. \"transform: rotateY(1620deg);\"\n",
    "\n",
    "# 3. Extract the degree\n",
    "import re\n",
    "match = re.search(r'rotateY\\((\\d+)deg\\)', transform_style)\n",
    "if match:\n",
    "    degrees = int(match.group(1))\n",
    "    # Normalize the rotation within 360°\n",
    "    final_angle = degrees % 360\n",
    "\n",
    "    # Every 180° flips the face, so even number of 180s = same side\n",
    "    flips = (degrees // 180) % 2\n",
    "\n",
    "    flip_face = \"Red\" if flips == 1 else \"Black\"\n",
    "    print(\"Coin landed on:\", flip_face)\n",
    "else:\n",
    "    flip_face = \"Couldn't determine coin face.\"\n",
    "    print(flip_face)\n",
    "\n",
    "# extract flip color\n",
    "\n",
    "if creator_color == flip_face:\n",
    "    print(f\"flip was lost!\")\n",
    "else:\n",
    "    print(f\"flip was won!\")"
   ],
   "id": "5c8e27423ac20f6a",
   "outputs": [
    {
     "name": "stdout",
     "output_type": "stream",
     "text": [
      "[2025-03-18 18:42:46]  Coin landed on: Black\n",
      "[2025-03-18 18:42:46]  flip was won!\n"
     ]
    }
   ],
   "execution_count": 38
  }
 ],
 "metadata": {
  "kernelspec": {
   "display_name": "Python 3",
   "language": "python",
   "name": "python3"
  },
  "language_info": {
   "codemirror_mode": {
    "name": "ipython",
    "version": 2
   },
   "file_extension": ".py",
   "mimetype": "text/x-python",
   "name": "python",
   "nbconvert_exporter": "python",
   "pygments_lexer": "ipython2",
   "version": "2.7.6"
  }
 },
 "nbformat": 4,
 "nbformat_minor": 5
}
