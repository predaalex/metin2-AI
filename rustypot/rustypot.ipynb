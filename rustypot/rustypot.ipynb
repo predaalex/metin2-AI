{
 "cells": [
  {
   "metadata": {
    "ExecuteTime": {
     "end_time": "2025-03-25T05:26:56.528799Z",
     "start_time": "2025-03-25T05:26:56.430810Z"
    }
   },
   "cell_type": "code",
   "source": [
    "import builtins\n",
    "import copy\n",
    "import time\n",
    "\n",
    "from selenium import webdriver\n",
    "from selenium.common import TimeoutException\n",
    "from selenium.webdriver.common.by import By\n",
    "from selenium.webdriver.support.ui import WebDriverWait\n",
    "from selenium.webdriver.support import expected_conditions as EC\n",
    "from selenium.webdriver.edge.service import Service\n",
    "from selenium.common import StaleElementReferenceException\n",
    "\n",
    "from itertools import combinations\n",
    "from datetime import datetime"
   ],
   "id": "1f32d80b10f1f485",
   "outputs": [],
   "execution_count": 1
  },
  {
   "metadata": {
    "ExecuteTime": {
     "end_time": "2025-03-25T05:26:56.543946Z",
     "start_time": "2025-03-25T05:26:56.529437Z"
    }
   },
   "cell_type": "code",
   "source": [
    "def print(*args, **kwargs):\n",
    "    timestamp = datetime.now().strftime(\"%Y-%m-%d %H:%M:%S\")\n",
    "    builtins.print(f\"[{timestamp}] \", *args, **kwargs)\n",
    "\n",
    "def get_timestamp():\n",
    "    return str(datetime.now().strftime(\"%Y-%m-%d %H:%M:%S\"))"
   ],
   "id": "ceb9165e89dfecff",
   "outputs": [],
   "execution_count": 2
  },
  {
   "cell_type": "code",
   "id": "initial_id",
   "metadata": {
    "collapsed": true,
    "ExecuteTime": {
     "end_time": "2025-03-25T05:26:57.886229Z",
     "start_time": "2025-03-25T05:26:56.544943Z"
    }
   },
   "source": [
    "EDGE_DRIVER_PATH = \"edgedriver_win32/msedgedriver.exe\"\n",
    "driver = webdriver.Edge(service=Service(EDGE_DRIVER_PATH))"
   ],
   "outputs": [],
   "execution_count": 3
  },
  {
   "metadata": {
    "ExecuteTime": {
     "end_time": "2025-03-25T05:26:57.901873Z",
     "start_time": "2025-03-25T05:26:57.887225Z"
    }
   },
   "cell_type": "code",
   "source": [
    "wait = WebDriverWait(driver, 10)"
   ],
   "id": "5c8004117d755f86",
   "outputs": [],
   "execution_count": 4
  },
  {
   "metadata": {
    "ExecuteTime": {
     "end_time": "2025-03-25T05:26:58.542005Z",
     "start_time": "2025-03-25T05:26:57.902895Z"
    }
   },
   "cell_type": "code",
   "source": [
    "driver.get(\"https://rustypot.com/coinflip\")"
   ],
   "id": "fab21f6da5a052a4",
   "outputs": [],
   "execution_count": 5
  },
  {
   "metadata": {
    "ExecuteTime": {
     "end_time": "2025-03-25T05:26:58.557292Z",
     "start_time": "2025-03-25T05:26:58.543140Z"
    }
   },
   "cell_type": "code",
   "source": [
    "def get_possible_bet_values(inventory_items_values, max_items=3):\n",
    "    print(f\"there are {len(inventory_items_values)} items in inventory with total value: {sum(inventory_items_values):.2f}$\")\n",
    "    possible_bet_values = {}\n",
    "    for r in range(1, max_items + 1):\n",
    "        for combo in combinations(inventory_items_values, r):\n",
    "            s = sum(combo)\n",
    "            max_tax = s * 2 * 0.05\n",
    "            good_combo = True\n",
    "            for item_value in combo:\n",
    "                if item_value < max_tax:\n",
    "                    good_combo = False\n",
    "            if good_combo:\n",
    "                possible_bet_values[s] = list(combo)\n",
    "    possible_bet_values_sorted = dict(sorted(possible_bet_values.items()))\n",
    "    \n",
    "    return possible_bet_values_sorted"
   ],
   "id": "acb11f21ba321d7",
   "outputs": [],
   "execution_count": 6
  },
  {
   "metadata": {
    "ExecuteTime": {
     "end_time": "2025-03-25T05:26:58.572986Z",
     "start_time": "2025-03-25T05:26:58.558334Z"
    }
   },
   "cell_type": "code",
   "source": [
    "def get_inventory_items():\n",
    "    create_a_game_buttom = WebDriverWait(driver, 10).until(\n",
    "        EC.element_to_be_clickable((By.CLASS_NAME, \"createCoinflipButton\"))\n",
    "    )\n",
    "    create_a_game_buttom.click()\n",
    "    \n",
    "    try:\n",
    "        inventory_items = WebDriverWait(driver, 10).until(\n",
    "            EC.presence_of_all_elements_located((By.CLASS_NAME, \"InventoryItem\"))\n",
    "        )\n",
    "        \n",
    "        # inventory_items = inventory_items_div.find_elements(By.CLASS_NAME, \"InventoryItem\")\n",
    "        inventory_items_values = []\n",
    "        for inventory_item in inventory_items:\n",
    "            inventory_items_values.append(float(inventory_item.text.split(\"$\")[1]))\n",
    "        \n",
    "        driver.get(\"https://rustypot.com/coinflip\")\n",
    "\n",
    "        print(f\"inventory items gathered: {inventory_items_values}\", )\n",
    "        \n",
    "        return inventory_items_values\n",
    "    except TimeoutException:\n",
    "        print(f\"Timed out waiting for inventory items\")\n",
    "        driver.get(\"https://rustypot.com/coinflip\")\n",
    "        return get_inventory_items()"
   ],
   "id": "10b01725b14804e6",
   "outputs": [],
   "execution_count": 7
  },
  {
   "metadata": {},
   "cell_type": "code",
   "source": [
    "inventory_items_values = get_inventory_items()\n",
    "# inventory_items_values = [62.31, 31.75, 31.75, 20.86, 17.38, 13.34, 13.34] ### TEST WITH HARDCODED ITEMS\n",
    "start = time.time()\n",
    "possible_bet_values = get_possible_bet_values(inventory_items_values)\n",
    "end = time.time()\n",
    "\n",
    "print(f\"{end - start:.2f} seconds\")\n",
    "possible_bet_values"
   ],
   "id": "fa49c77554a4e9f7",
   "outputs": [],
   "execution_count": null
  },
  {
   "metadata": {
    "ExecuteTime": {
     "end_time": "2025-03-25T05:26:58.588746Z",
     "start_time": "2025-03-25T05:26:58.574011Z"
    }
   },
   "cell_type": "code",
   "source": [
    "def get_bet_items(bet_values, coinflip_value):\n",
    "    for bet_value in bet_values:\n",
    "        if (coinflip_value * 0.9 < bet_value <= coinflip_value * max_bet_percentage and \n",
    "                # coinflip_value not in bets and \n",
    "                min_bet_value < coinflip_value < max_bet_value):\n",
    "            return bet_values[bet_value]\n",
    "    \n",
    "    return None\n",
    "\n",
    "\n",
    "def join_coinflip(join_button):\n",
    "\n",
    "    try:\n",
    "        join_button.click()\n",
    "        \n",
    "        spinner_locator = (By.CLASS_NAME, \"spinner\")\n",
    "        WebDriverWait(driver, 4).until(\n",
    "            EC.invisibility_of_element_located(spinner_locator)\n",
    "        )\n",
    "    except TimeoutException:\n",
    "        print(f\"Inventory loading timed out during selecting bet items\")\n",
    "        driver.get(\"https://rustypot.com/coinflip\")\n",
    "        join_coinflip(join_button)\n",
    "    \n",
    "    \n",
    "def select_bet_items(bet_items_values):\n",
    "    inventory_items_locator = (By.CLASS_NAME, \"InventoryItem\")\n",
    "    inventory_items = WebDriverWait(driver, 3).until(\n",
    "        EC.presence_of_all_elements_located(inventory_items_locator)\n",
    "    )\n",
    "    \n",
    "    for inventory_item in inventory_items:\n",
    "        item_value = float(inventory_item.text.split(\"$\")[1])\n",
    "        if item_value in bet_items_values:\n",
    "            inventory_item.click()\n",
    "            bet_items_values.remove(item_value)\n",
    "    \n",
    "\n",
    "def press_deposit_button():\n",
    "    deposit_button = WebDriverWait(driver, 10).until(\n",
    "    EC.element_to_be_clickable((By.XPATH, \"//button[@onclick='requestCfDeposit()']\"))\n",
    "    )\n",
    "    deposit_button.click()\n",
    "    \n",
    "    \n",
    "def press_accept_deposit_button_site():\n",
    "    accept_button = WebDriverWait(driver, 15).until(\n",
    "        EC.element_to_be_clickable((By.XPATH, \"//button[@onclick='closeAcceptDeposit()']\"))\n",
    "    )\n",
    "    accept_button.click()\n",
    "\n",
    "def press_accept_winnings_button_site():\n",
    "    accept_button = WebDriverWait(driver, 10).until(\n",
    "        EC.element_to_be_clickable((By.XPATH,\n",
    "                                \"//button[@onclick='closeAcceptWinnings()']\"))\n",
    "    )\n",
    "    accept_button.click()\n",
    "\n",
    "def press_no_doubledown_button():\n",
    "    cancel_button = WebDriverWait(driver, 10).until(\n",
    "        EC.element_to_be_clickable((By.XPATH, \"//div[@id='DDCancel' and contains(@class, 'DDOption')]\"))\n",
    "    )\n",
    "    cancel_button.click()\n",
    "\n",
    "\n",
    "def accept_steam_trade(deposit, acceptWinning):\n",
    "    \n",
    "    # 1.open the new window\n",
    "    WebDriverWait(driver, 10).until(lambda d: len(d.window_handles) > 1)\n",
    "                \n",
    "    original_window = driver.current_window_handle\n",
    "    new_window = [w for w in driver.window_handles if w != original_window][0]\n",
    "    driver.switch_to.window(new_window)\n",
    "    \n",
    "    \n",
    "    # 2.close if profile reported    \n",
    "    try:\n",
    "        warning_element = WebDriverWait(driver, 1).until(\n",
    "            EC.presence_of_element_located((\n",
    "                By.XPATH,\n",
    "                \"//*[contains(., 'have reported Blown for attempting trade scams')]\"\n",
    "            ))\n",
    "        )\n",
    "        ok_button = WebDriverWait(driver, 1).until(\n",
    "            EC.element_to_be_clickable((\n",
    "                By.XPATH,\n",
    "                \"//div[contains(@class, 'btn_grey_steamui') and span[text()='OK']]\"\n",
    "                ))\n",
    "        )\n",
    "        ok_button.click()\n",
    "    except TimeoutException:\n",
    "        pass\n",
    "    \n",
    "    # 3. Accept the trade\n",
    "    confirm_button = WebDriverWait(driver, 10).until(\n",
    "                    EC.element_to_be_clickable((By.XPATH, \"//div[contains(@class, 'content') and contains(text(), 'Confirm trade contents')]\"))\n",
    "    )\n",
    "    confirm_button.click()\n",
    "    time.sleep(0.25)\n",
    "    \n",
    "    \n",
    "    \n",
    "    if deposit:\n",
    "        confirm_gift_button = WebDriverWait(driver, 10).until(\n",
    "            EC.element_to_be_clickable((By.XPATH, \"//div[span[text()='Yes, this is a gift']]\"))\n",
    "        )\n",
    "        confirm_gift_button.click()\n",
    "        time.sleep(0.25)\n",
    "    elif acceptWinning:\n",
    "        \n",
    "        \n",
    "        confirm_gift_button = WebDriverWait(driver, 10).until(\n",
    "            EC.element_to_be_clickable((By.XPATH, \"//div[@class='btn_green_steamui btn_medium']\"))\n",
    "        )\n",
    "        confirm_gift_button.click()\n",
    "        time.sleep(0.25)\n",
    "        \n",
    "\n",
    "        try:\n",
    "            trust_bot_element = WebDriverWait(driver, 1).until(\n",
    "                EC.element_to_be_clickable((By.XPATH, \"//div[span[contains(text(), 'Yes, I trust')]]\"))\n",
    "            )\n",
    "            trust_bot_element.click()\n",
    "            time.sleep(0.25)\n",
    "        except TimeoutException:\n",
    "            pass\n",
    "    \n",
    "    accept_trade_btn = WebDriverWait(driver, 10).until(\n",
    "        EC.element_to_be_clickable((By.ID, \"trade_confirmbtn\"))\n",
    "    )\n",
    "    accept_trade_btn.click()\n",
    "    time.sleep(1)\n",
    "\n",
    "    driver.close()\n",
    "    driver.switch_to.window(original_window)\n",
    "    \n",
    "    \n",
    "def open_cf_window_and_wait_to_flip():\n",
    "    view_button = coinflip_div.find_element(By.XPATH, \".//button[text()='View']\")\n",
    "    view_button.click()\n",
    "    \n",
    "    # Wait until the <p> inside #fliper-coin disappears\n",
    "    try:\n",
    "        p_element = driver.find_element(By.CSS_SELECTOR, \"#fliper-coin > p\")\n",
    "        WebDriverWait(driver, 120).until(EC.staleness_of(p_element))\n",
    "    except:\n",
    "        # If <p> is already gone, just wait for the new state\n",
    "        pass\n",
    "        \n",
    "    \n",
    "    WebDriverWait(driver, 120).until(\n",
    "        EC.presence_of_element_located((By.CSS_SELECTOR, \"#fliper-coin .flipper\"))\n",
    "    )\n",
    "\n",
    "\n",
    "def get_winner():\n",
    "    # Wait for the parent div to appear\n",
    "    creator_div = WebDriverWait(driver, 10).until(EC.presence_of_element_located((By.CLASS_NAME, \"creator-imgs\")))\n",
    "    \n",
    "    # Wait for the child img.pick within that div\n",
    "    color_img = WebDriverWait(driver, 10).until(lambda d: creator_div.find_element(By.XPATH, \".//img[@class='pick']\"))\n",
    "    \n",
    "    # Get the src\n",
    "    src = color_img.get_attribute(\"src\")\n",
    "    \n",
    "     # Extract the color from the filename\n",
    "    if \"Red\" in src:\n",
    "        creator_color = \"Red\"\n",
    "    elif \"Black\" in src:\n",
    "        creator_color = \"Black\"\n",
    "    else:  # creator_color = \"Unknown\"\n",
    "        time.sleep(0.5)\n",
    "        print(f\"creator_color is {src}. Retry getting creator\")\n",
    "        return get_winner()\n",
    "    \n",
    "    # 1. Get the 'flipper' element\n",
    "    flipper = driver.find_element(By.CLASS_NAME, \"flipper\")\n",
    "    \n",
    "    # 2. Get the 'transform' style attribute\n",
    "    transform_style = flipper.get_attribute(\"style\")  # e.g. \"transform: rotateY(1620deg);\"\n",
    "    \n",
    "    # 3. Extract the degree\n",
    "    import re\n",
    "    match = re.search(r'rotateY\\((\\d+)deg\\)', transform_style)\n",
    "    if match:\n",
    "        degrees = int(match.group(1))\n",
    "        # Normalize the rotation within 360°\n",
    "        final_angle = degrees % 360\n",
    "    \n",
    "        # Every 180° flips the face, so even number of 180s = same side\n",
    "        flips = (degrees // 180) % 2\n",
    "    \n",
    "        flip_face = \"Red\" if flips == 1 else \"Black\"\n",
    "        print(\"Coin landed on:\", flip_face)\n",
    "    else:\n",
    "        time.sleep(0.5)\n",
    "        print(\"Couldn't determine coin face. Retry getting flipping face\")\n",
    "        return get_winner()\n",
    "        \n",
    "    return creator_color, flip_face\n",
    "\n",
    "def get_coinflip_items_values(coinflip_items):\n",
    "    img_elements = coinflip_items.find_elements(By.TAG_NAME, \"img\")\n",
    "    coinflip_items_values = []\n",
    "    for img in img_elements:\n",
    "        title = img.get_attribute(\"data-original-title\")\n",
    "        if \"|\" in title:\n",
    "            price_str = title.split(\"$\")[-1]\n",
    "            price = float(price_str)\n",
    "            coinflip_items_values.append(price)\n",
    "    \n",
    "    return coinflip_items_values\n",
    "\n",
    "def log_bet(bet_value, won_value, win, profit, inventory_value):\n",
    "    f = open(\"logs.csv\", \"a\")\n",
    "    f.write(f\"{get_timestamp()},\"\n",
    "            f\"{bet_value:.2f},\"\n",
    "            f\"{won_value:.2f},\"\n",
    "            f\"{win},\"\n",
    "            f\"{profit:.2f},\"\n",
    "            f\"{inventory_value:.2f}\\n\")\n",
    "    print(f\"LOG APPEND: {get_timestamp()},\"\n",
    "            f\"{bet_value:.2f},\"\n",
    "            f\"{won_value:.2f},\"\n",
    "            f\"{win},\"\n",
    "            f\"{profit:.2f},\"\n",
    "            f\"{inventory_value:.2f}\")\n",
    "    f.close()"
   ],
   "id": "d3f35d3557069fcb",
   "outputs": [],
   "execution_count": 8
  },
  {
   "metadata": {
    "ExecuteTime": {
     "end_time": "2025-03-25T08:15:45.193656Z",
     "start_time": "2025-03-25T08:15:45.183133Z"
    }
   },
   "cell_type": "code",
   "source": [
    "max_bet_percentage = 0.94\n",
    "tax_procentage = 0.05\n",
    "min_bet_value = 1.0\n",
    "max_bet_value = 4 * (1 + (1 - max_bet_percentage))\n",
    "# max_bet_value = 4"
   ],
   "id": "f5cac0b202e60877",
   "outputs": [],
   "execution_count": 14
  },
  {
   "metadata": {
    "ExecuteTime": {
     "end_time": "2025-03-25T14:59:20.050571Z",
     "start_time": "2025-03-25T14:32:29.463347Z"
    }
   },
   "cell_type": "code",
   "source": [
    "inventory_items_values = get_inventory_items()\n",
    "possible_bet_values = get_possible_bet_values(inventory_items_values)\n",
    "\n",
    "while True:\n",
    "    try:\n",
    "        active_coinflips = wait.until(EC.presence_of_element_located((By.CLASS_NAME, \"ActiveCoinflips\")))\n",
    "        coinflip_row_divs = active_coinflips.find_elements(By.CLASS_NAME, \"coinflip\")\n",
    "        \n",
    "        for coinflip_div in coinflip_row_divs:\n",
    "            try:\n",
    "                coinflip_value = float(coinflip_div.get_attribute(\"coinflip-value\"))\n",
    "                coinflip_items = coinflip_div.find_element(By.CLASS_NAME, \"coinflipGameItems\")\n",
    "            except StaleElementReferenceException:\n",
    "                print(f\"coinflip divs are stale. Retry getting coinflip rows\")\n",
    "                break\n",
    "            \n",
    "            # cf value + bet value ( max 95% of cf value)\n",
    "            tax_value = (coinflip_value + coinflip_value * max_bet_percentage) * tax_procentage  # the taxed amount is the total amount of the coinflip\n",
    "    \n",
    "            if \"items\" in coinflip_items.text:\n",
    "                # print(\"more than 5 items...\")\n",
    "                continue\n",
    "    \n",
    "            coinflip_items_values = get_coinflip_items_values(coinflip_items)\n",
    "    \n",
    "            if any(tax_value > item_value for item_value in coinflip_items_values):\n",
    "                # print(f\"not profitable\")\n",
    "                continue\n",
    "            \n",
    "            \n",
    "            # to join a cf, i need to deposit minimum value\n",
    "            # 1. get the bet items\n",
    "            bet_items_values = get_bet_items(possible_bet_values, coinflip_value)\n",
    "            \n",
    "            if bet_items_values is None:\n",
    "                # no available bet for this cf based on our items\n",
    "                continue\n",
    "            \n",
    "            ### Press join on available coinflip. if it is ongoing (only View button visible, skip)\n",
    "            join_button = coinflip_div.find_element(By.TAG_NAME, \"button\")\n",
    "            if \"Join\" not in join_button.text:\n",
    "                continue\n",
    "                \n",
    "            print(f\"JOINING bet_value = {sum(bet_items_values):.2f} -> bet_items_value{bet_items_values=}\")\n",
    "    \n",
    "            join_coinflip(join_button)\n",
    "            \n",
    "            try:\n",
    "                select_bet_items(copy.deepcopy(bet_items_values))\n",
    "            except TimeoutException:\n",
    "                print(f\"Timed out when selecting bet items\")\n",
    "                driver.get(\"https://rustypot.com/coinflip\")\n",
    "                time.sleep(0.5)\n",
    "                break\n",
    "                \n",
    "            press_deposit_button()\n",
    "            \n",
    "            press_accept_deposit_button_site()\n",
    "\n",
    "            # try:\n",
    "            #     # check if game already in progress\n",
    "            #     element = driver.find_element(By.XPATH, '//div[@id=\"AcceptDepositBody\"]/h4[text()=\"This game is already in progress!\"]')\n",
    "            # \n",
    "            #     WebDriverWait(driver, 3).until(\n",
    "            #         EC.presence_of_element_located(element)\n",
    "            #     )\n",
    "            #     \n",
    "            #     # if present, break and continue\n",
    "            #     driver.get(\"https://rustypot.com/coinflip\")\n",
    "            #     time.sleep(0.5)\n",
    "            #     break\n",
    "            # except TimeoutException:\n",
    "            #     pass\n",
    "            \n",
    "            \n",
    "            accept_steam_trade(deposit=True, acceptWinning=False)\n",
    "    \n",
    "     \n",
    "            print(f\"JOINED {coinflip_value=} -> {coinflip_items_values=}\")\n",
    "                \n",
    "            # bets.append(coinflip_value)\n",
    "            \n",
    "            open_cf_window_and_wait_to_flip()\n",
    "    \n",
    "            creator_color, flip_face = get_winner()\n",
    "    \n",
    "            # extract flip color\n",
    "            \n",
    "            if creator_color == flip_face:\n",
    "                print(f\"flip was lost!\")\n",
    "                time.sleep(4) # wait to see the flip\n",
    "    \n",
    "                driver.get(\"https://rustypot.com/coinflip\")\n",
    "                time.sleep(1)\n",
    "                for item in bet_items_values:\n",
    "                    inventory_items_values.remove(item)\n",
    "                    \n",
    "                log_bet(sum(bet_items_values), coinflip_value, 0, -sum(bet_items_values), sum(inventory_items_values))\n",
    "                \n",
    "                possible_bet_values = get_possible_bet_values(inventory_items_values)\n",
    "                \n",
    "            else:\n",
    "                print(f\"flip was won!\")\n",
    "                time.sleep(4)\n",
    "                \n",
    "                press_no_doubledown_button()\n",
    "    \n",
    "                press_accept_winnings_button_site()\n",
    "    \n",
    "                accept_steam_trade(deposit=False, acceptWinning=True)\n",
    "                \n",
    "                for item in coinflip_items_values:\n",
    "                    inventory_items_values.append(item)\n",
    "                    \n",
    "                log_bet(sum(bet_items_values), coinflip_value, 1, coinflip_value, sum(inventory_items_values))\n",
    "    \n",
    "                possible_bet_values = get_possible_bet_values(inventory_items_values)\n",
    "        \n",
    "            print(f\"Back to searching\")\n",
    "    except Exception:\n",
    "        print(f\"stale element error -> maybe captch / cf already started / something || RESET\")\n",
    "        driver.get(\"https://rustypot.com/coinflip\")\n",
    "\n",
    "    time.sleep(1)"
   ],
   "id": "5d153c197bcd8aa",
   "outputs": [
    {
     "name": "stdout",
     "output_type": "stream",
     "text": [
      "[2025-03-25 16:32:32]  inventory items gathered: [7.02, 5.3, 5.26, 4.96, 4.76, 4.38, 4.28, 4.28, 4.09, 4.08, 4.03, 3.92, 3.9, 3.73, 3.72, 3.71, 3.71, 3.64, 3.58, 3.47, 3.34, 3.34, 3.26, 3.15, 3.09, 3.0, 2.99, 2.99, 2.98, 2.82, 2.63, 2.63, 2.55, 2.47, 2.35, 2.32, 2.25, 2.25, 2.21, 2.1, 2.1, 2.09, 2.0, 2.0, 1.99, 1.99, 1.99, 1.99, 1.99, 1.99, 1.99, 1.77, 1.73, 1.64, 1.63, 1.63, 1.61, 1.55, 1.54, 1.05, 1.04, 0.99, 0.94, 0.69]\n",
      "[2025-03-25 16:32:32]  there are 64 items in inventory with total value: 180.47$\n",
      "[2025-03-25 16:32:33]  JOINING bet_value = 0.99 -> bet_items_valuebet_items_values=[0.99]\n",
      "[2025-03-25 16:32:38]  JOINED coinflip_value=1.07 -> coinflip_items_values=[1.07]\n",
      "[2025-03-25 16:32:56]  Coin landed on: Black\n",
      "[2025-03-25 16:32:56]  flip was won!\n",
      "[2025-03-25 16:33:08]  LOG APPEND: 2025-03-25 16:33:08,0.99,1.07,1,1.07,181.54\n",
      "[2025-03-25 16:33:08]  there are 65 items in inventory with total value: 181.54$\n",
      "[2025-03-25 16:33:08]  Back to searching\n",
      "[2025-03-25 16:33:10]  JOINING bet_value = 2.58 -> bet_items_valuebet_items_values=[1.54, 1.04]\n",
      "[2025-03-25 16:33:17]  JOINED coinflip_value=2.86 -> coinflip_items_values=[1.16, 0.97, 0.73]\n",
      "[2025-03-25 16:33:42]  Coin landed on: Red\n",
      "[2025-03-25 16:33:42]  flip was lost!\n",
      "[2025-03-25 16:33:48]  LOG APPEND: 2025-03-25 16:33:48,2.58,2.86,0,-2.58,178.96\n",
      "[2025-03-25 16:33:48]  there are 63 items in inventory with total value: 178.96$\n",
      "[2025-03-25 16:33:48]  Back to searching\n",
      "[2025-03-25 16:33:48]  coinflip divs are stale. Retry getting coinflip rows\n",
      "[2025-03-25 16:35:27]  JOINING bet_value = 1.99 -> bet_items_valuebet_items_values=[1.05, 0.94]\n",
      "[2025-03-25 16:35:33]  JOINED coinflip_value=2.21 -> coinflip_items_values=[1.25, 0.96]\n",
      "[2025-03-25 16:35:47]  Coin landed on: Red\n",
      "[2025-03-25 16:35:47]  flip was lost!\n",
      "[2025-03-25 16:35:53]  LOG APPEND: 2025-03-25 16:35:53,1.99,2.21,0,-1.99,176.97\n",
      "[2025-03-25 16:35:53]  there are 61 items in inventory with total value: 176.97$\n",
      "[2025-03-25 16:35:53]  Back to searching\n",
      "[2025-03-25 16:37:03]  JOINING bet_value = 1.73 -> bet_items_valuebet_items_values=[1.73]\n",
      "[2025-03-25 16:37:09]  JOINED coinflip_value=1.89 -> coinflip_items_values=[0.69, 0.67, 0.53]\n",
      "[2025-03-25 16:38:25]  Coin landed on: Black\n",
      "[2025-03-25 16:38:25]  flip was lost!\n",
      "[2025-03-25 16:38:30]  LOG APPEND: 2025-03-25 16:38:30,1.73,1.89,0,-1.73,175.24\n",
      "[2025-03-25 16:38:30]  there are 60 items in inventory with total value: 175.24$\n",
      "[2025-03-25 16:38:30]  Back to searching\n",
      "[2025-03-25 16:42:43]  JOINING bet_value = 1.61 -> bet_items_valuebet_items_values=[1.61]\n",
      "[2025-03-25 16:43:03]  JOINED coinflip_value=1.73 -> coinflip_items_values=[1.73]\n",
      "[2025-03-25 16:43:26]  Coin landed on: Red\n",
      "[2025-03-25 16:43:26]  flip was lost!\n",
      "[2025-03-25 16:43:32]  LOG APPEND: 2025-03-25 16:43:32,1.61,1.73,0,-1.61,173.63\n",
      "[2025-03-25 16:43:32]  there are 59 items in inventory with total value: 173.63$\n",
      "[2025-03-25 16:43:32]  Back to searching\n",
      "[2025-03-25 16:44:38]  JOINING bet_value = 0.99 -> bet_items_valuebet_items_values=[0.99]\n",
      "[2025-03-25 16:44:44]  JOINED coinflip_value=1.07 -> coinflip_items_values=[1.07]\n",
      "[2025-03-25 16:45:09]  Couldn't determine coin face. Retry getting flipping face\n",
      "[2025-03-25 16:45:09]  Coin landed on: Black\n",
      "[2025-03-25 16:45:09]  flip was lost!\n",
      "[2025-03-25 16:45:15]  LOG APPEND: 2025-03-25 16:45:15,0.99,1.07,0,-0.99,172.64\n",
      "[2025-03-25 16:45:15]  there are 58 items in inventory with total value: 172.64$\n",
      "[2025-03-25 16:45:15]  Back to searching\n",
      "[2025-03-25 16:45:35]  JOINING bet_value = 2.46 -> bet_items_valuebet_items_values=[1.77, 0.69]\n",
      "[2025-03-25 16:45:41]  JOINED coinflip_value=2.73 -> coinflip_items_values=[1.04, 0.96, 0.73]\n",
      "[2025-03-25 16:45:59]  Coin landed on: Red\n",
      "[2025-03-25 16:45:59]  flip was lost!\n",
      "[2025-03-25 16:46:05]  LOG APPEND: 2025-03-25 16:46:05,2.46,2.73,0,-2.46,170.18\n",
      "[2025-03-25 16:46:05]  there are 56 items in inventory with total value: 170.18$\n",
      "[2025-03-25 16:46:05]  Back to searching\n",
      "[2025-03-25 16:50:26]  JOINING bet_value = 2.47 -> bet_items_valuebet_items_values=[2.47]\n",
      "[2025-03-25 16:50:33]  JOINED coinflip_value=2.74 -> coinflip_items_values=[2.0, 0.74]\n",
      "[2025-03-25 16:50:55]  Coin landed on: Red\n",
      "[2025-03-25 16:50:55]  flip was won!\n",
      "[2025-03-25 16:51:07]  LOG APPEND: 2025-03-25 16:51:07,2.47,2.74,1,2.74,172.92\n",
      "[2025-03-25 16:51:07]  there are 58 items in inventory with total value: 172.92$\n",
      "[2025-03-25 16:51:07]  Back to searching\n",
      "[2025-03-25 16:51:27]  JOINING bet_value = 1.07 -> bet_items_valuebet_items_values=[1.07]\n",
      "[2025-03-25 16:51:32]  JOINED coinflip_value=1.17 -> coinflip_items_values=[1.17]\n",
      "[2025-03-25 16:51:59]  Couldn't determine coin face. Retry getting flipping face\n",
      "[2025-03-25 16:51:59]  Coin landed on: Red\n",
      "[2025-03-25 16:51:59]  flip was lost!\n",
      "[2025-03-25 16:52:05]  LOG APPEND: 2025-03-25 16:52:05,1.07,1.17,0,-1.07,171.85\n",
      "[2025-03-25 16:52:05]  there are 57 items in inventory with total value: 171.85$\n",
      "[2025-03-25 16:52:05]  Back to searching\n",
      "[2025-03-25 16:52:10]  JOINING bet_value = 2.09 -> bet_items_valuebet_items_values=[2.09]\n",
      "[2025-03-25 16:52:17]  JOINED coinflip_value=2.24 -> coinflip_items_values=[1.17, 1.07]\n",
      "[2025-03-25 16:52:39]  Coin landed on: Black\n",
      "[2025-03-25 16:52:39]  flip was won!\n",
      "[2025-03-25 16:52:54]  LOG APPEND: 2025-03-25 16:52:54,2.09,2.24,1,2.24,174.09\n",
      "[2025-03-25 16:52:54]  there are 59 items in inventory with total value: 174.09$\n",
      "[2025-03-25 16:52:54]  Back to searching\n"
     ]
    },
    {
     "ename": "KeyboardInterrupt",
     "evalue": "",
     "output_type": "error",
     "traceback": [
      "\u001B[1;31m---------------------------------------------------------------------------\u001B[0m",
      "\u001B[1;31mKeyboardInterrupt\u001B[0m                         Traceback (most recent call last)",
      "Cell \u001B[1;32mIn[20], line 124\u001B[0m\n\u001B[0;32m    121\u001B[0m     \u001B[38;5;28mprint\u001B[39m(\u001B[38;5;124mf\u001B[39m\u001B[38;5;124m\"\u001B[39m\u001B[38;5;124mstale element error -> maybe captch / cf already started / something || RESET\u001B[39m\u001B[38;5;124m\"\u001B[39m)\n\u001B[0;32m    122\u001B[0m     driver\u001B[38;5;241m.\u001B[39mget(\u001B[38;5;124m\"\u001B[39m\u001B[38;5;124mhttps://rustypot.com/coinflip\u001B[39m\u001B[38;5;124m\"\u001B[39m)\n\u001B[1;32m--> 124\u001B[0m \u001B[43mtime\u001B[49m\u001B[38;5;241;43m.\u001B[39;49m\u001B[43msleep\u001B[49m\u001B[43m(\u001B[49m\u001B[38;5;241;43m1\u001B[39;49m\u001B[43m)\u001B[49m\n",
      "\u001B[1;31mKeyboardInterrupt\u001B[0m: "
     ]
    }
   ],
   "execution_count": 20
  },
  {
   "metadata": {},
   "cell_type": "code",
   "source": [
    "press_no_doubledown_button()\n",
    "press_accept_winnings_button_site()\n",
    "accept_steam_trade(deposit=False, acceptWinning=True)"
   ],
   "id": "dac6560955b87a9b",
   "outputs": [],
   "execution_count": null
  },
  {
   "metadata": {
    "ExecuteTime": {
     "end_time": "2025-03-24T14:53:06.099158Z",
     "start_time": "2025-03-24T14:53:06.090524Z"
    }
   },
   "cell_type": "code",
   "source": "driver.switch_to.window(driver.window_handles[0])",
   "id": "4a52725a45ebcfae",
   "outputs": [],
   "execution_count": 70
  },
  {
   "metadata": {
    "ExecuteTime": {
     "end_time": "2025-03-24T12:51:02.157758Z",
     "start_time": "2025-03-24T12:51:02.150686Z"
    }
   },
   "cell_type": "code",
   "source": "driver.window_handles",
   "id": "c66f00306b957c8f",
   "outputs": [
    {
     "data": {
      "text/plain": [
       "['72E98C09411D25942DFB48696CE87804']"
      ]
     },
     "execution_count": 34,
     "metadata": {},
     "output_type": "execute_result"
    }
   ],
   "execution_count": 34
  },
  {
   "metadata": {
    "ExecuteTime": {
     "end_time": "2025-03-24T07:26:09.892529Z",
     "start_time": "2025-03-24T07:25:59.591632Z"
    }
   },
   "cell_type": "code",
   "source": [
    "confirm_button = WebDriverWait(driver, 10).until(\n",
    "         EC.presence_of_element_located((By.XPATH, \"//div[contains(@class, 'content') and contains(text(), 'Confirm trade contents')]\"))\n",
    ")\n",
    "confirm_button.click()"
   ],
   "id": "d3ca29f255afbfc",
   "outputs": [
    {
     "ename": "TimeoutException",
     "evalue": "Message: \nStacktrace:\n\tGetHandleVerifier [0x011B0E93+39155]\n\tMicrosoft::Applications::Events::time_ticks_t::time_ticks_t [0x0104E3B6+772070]\n\tMicrosoft::Applications::Events::ILogConfiguration::operator* [0x00E048EE+5182]\n\tMicrosoft::Applications::Events::GUID_t::GUID_t [0x00E3998A+105610]\n\tMicrosoft::Applications::Events::GUID_t::GUID_t [0x00E39C7A+106362]\n\tMicrosoft::Applications::Events::GUID_t::GUID_t [0x00E69B92+302738]\n\tMicrosoft::Applications::Events::GUID_t::GUID_t [0x00E51EC4+205252]\n\tMicrosoft::Applications::Events::GUID_t::GUID_t [0x00E33091+78737]\n\tMicrosoft::Applications::Events::GUID_t::GUID_t [0x00E68530+297008]\n\tMicrosoft::Applications::Events::GUID_t::GUID_t [0x00E51B86+204422]\n\tMicrosoft::Applications::Events::GUID_t::GUID_t [0x00E32947+76871]\n\tMicrosoft::Applications::Events::GUID_t::GUID_t [0x00E31CF5+73717]\n\tMicrosoft::Applications::Events::GUID_t::GUID_t [0x00E32764+76388]\n\tsqlite3_dbdata_init [0x012B65BC+589708]\n\tMicrosoft::Applications::Events::FromJSON [0x01380473+699091]\n\tMicrosoft::Applications::Events::FromJSON [0x0137FDE5+697413]\n\tMicrosoft::Applications::Events::FromJSON [0x01371F1C+640380]\n\tMicrosoft::Applications::Events::FromJSON [0x01380C1F+701055]\n\tMicrosoft::Applications::Events::time_ticks_t::time_ticks_t [0x01064CAD+864477]\n\tMicrosoft::Applications::Events::time_ticks_t::time_ticks_t [0x01057DE8+811544]\n\tMicrosoft::Applications::Events::time_ticks_t::time_ticks_t [0x01057FD4+812036]\n\tMicrosoft::Applications::Events::time_ticks_t::time_ticks_t [0x0103EB35+708453]\n\tBaseThreadInitThunk [0x76247BA9+25]\n\tRtlInitializeExceptionChain [0x77B3C2EB+107]\n\tRtlClearBits [0x77B3C26F+191]\n",
     "output_type": "error",
     "traceback": [
      "\u001B[1;31m---------------------------------------------------------------------------\u001B[0m",
      "\u001B[1;31mTimeoutException\u001B[0m                          Traceback (most recent call last)",
      "Cell \u001B[1;32mIn[20], line 1\u001B[0m\n\u001B[1;32m----> 1\u001B[0m confirm_button \u001B[38;5;241m=\u001B[39m \u001B[43mWebDriverWait\u001B[49m\u001B[43m(\u001B[49m\u001B[43mdriver\u001B[49m\u001B[43m,\u001B[49m\u001B[43m \u001B[49m\u001B[38;5;241;43m10\u001B[39;49m\u001B[43m)\u001B[49m\u001B[38;5;241;43m.\u001B[39;49m\u001B[43muntil\u001B[49m\u001B[43m(\u001B[49m\n\u001B[0;32m      2\u001B[0m \u001B[43m         \u001B[49m\u001B[43mEC\u001B[49m\u001B[38;5;241;43m.\u001B[39;49m\u001B[43mpresence_of_element_located\u001B[49m\u001B[43m(\u001B[49m\u001B[43m(\u001B[49m\u001B[43mBy\u001B[49m\u001B[38;5;241;43m.\u001B[39;49m\u001B[43mXPATH\u001B[49m\u001B[43m,\u001B[49m\u001B[43m \u001B[49m\u001B[38;5;124;43m\"\u001B[39;49m\u001B[38;5;124;43m//div[contains(@class, \u001B[39;49m\u001B[38;5;124;43m'\u001B[39;49m\u001B[38;5;124;43mcontent\u001B[39;49m\u001B[38;5;124;43m'\u001B[39;49m\u001B[38;5;124;43m) and contains(text(), \u001B[39;49m\u001B[38;5;124;43m'\u001B[39;49m\u001B[38;5;124;43mConfirm trade contents\u001B[39;49m\u001B[38;5;124;43m'\u001B[39;49m\u001B[38;5;124;43m)]\u001B[39;49m\u001B[38;5;124;43m\"\u001B[39;49m\u001B[43m)\u001B[49m\u001B[43m)\u001B[49m\n\u001B[0;32m      3\u001B[0m \u001B[43m)\u001B[49m\n\u001B[0;32m      4\u001B[0m confirm_button\u001B[38;5;241m.\u001B[39mclick()\n",
      "File \u001B[1;32m~\\miniconda3\\envs\\CV\\lib\\site-packages\\selenium\\webdriver\\support\\wait.py:105\u001B[0m, in \u001B[0;36mWebDriverWait.until\u001B[1;34m(self, method, message)\u001B[0m\n\u001B[0;32m    103\u001B[0m     \u001B[38;5;28;01mif\u001B[39;00m time\u001B[38;5;241m.\u001B[39mmonotonic() \u001B[38;5;241m>\u001B[39m end_time:\n\u001B[0;32m    104\u001B[0m         \u001B[38;5;28;01mbreak\u001B[39;00m\n\u001B[1;32m--> 105\u001B[0m \u001B[38;5;28;01mraise\u001B[39;00m TimeoutException(message, screen, stacktrace)\n",
      "\u001B[1;31mTimeoutException\u001B[0m: Message: \nStacktrace:\n\tGetHandleVerifier [0x011B0E93+39155]\n\tMicrosoft::Applications::Events::time_ticks_t::time_ticks_t [0x0104E3B6+772070]\n\tMicrosoft::Applications::Events::ILogConfiguration::operator* [0x00E048EE+5182]\n\tMicrosoft::Applications::Events::GUID_t::GUID_t [0x00E3998A+105610]\n\tMicrosoft::Applications::Events::GUID_t::GUID_t [0x00E39C7A+106362]\n\tMicrosoft::Applications::Events::GUID_t::GUID_t [0x00E69B92+302738]\n\tMicrosoft::Applications::Events::GUID_t::GUID_t [0x00E51EC4+205252]\n\tMicrosoft::Applications::Events::GUID_t::GUID_t [0x00E33091+78737]\n\tMicrosoft::Applications::Events::GUID_t::GUID_t [0x00E68530+297008]\n\tMicrosoft::Applications::Events::GUID_t::GUID_t [0x00E51B86+204422]\n\tMicrosoft::Applications::Events::GUID_t::GUID_t [0x00E32947+76871]\n\tMicrosoft::Applications::Events::GUID_t::GUID_t [0x00E31CF5+73717]\n\tMicrosoft::Applications::Events::GUID_t::GUID_t [0x00E32764+76388]\n\tsqlite3_dbdata_init [0x012B65BC+589708]\n\tMicrosoft::Applications::Events::FromJSON [0x01380473+699091]\n\tMicrosoft::Applications::Events::FromJSON [0x0137FDE5+697413]\n\tMicrosoft::Applications::Events::FromJSON [0x01371F1C+640380]\n\tMicrosoft::Applications::Events::FromJSON [0x01380C1F+701055]\n\tMicrosoft::Applications::Events::time_ticks_t::time_ticks_t [0x01064CAD+864477]\n\tMicrosoft::Applications::Events::time_ticks_t::time_ticks_t [0x01057DE8+811544]\n\tMicrosoft::Applications::Events::time_ticks_t::time_ticks_t [0x01057FD4+812036]\n\tMicrosoft::Applications::Events::time_ticks_t::time_ticks_t [0x0103EB35+708453]\n\tBaseThreadInitThunk [0x76247BA9+25]\n\tRtlInitializeExceptionChain [0x77B3C2EB+107]\n\tRtlClearBits [0x77B3C26F+191]\n"
     ]
    }
   ],
   "execution_count": 20
  },
  {
   "cell_type": "code",
   "source": [
    "log_bet(2.92, \n",
    "        3.24,\n",
    "        0,\n",
    "        2.92, \n",
    "        248.74 - 2.92)"
   ],
   "metadata": {
    "collapsed": false,
    "ExecuteTime": {
     "end_time": "2025-03-24T19:53:33.023696Z",
     "start_time": "2025-03-24T19:53:33.012547Z"
    }
   },
   "id": "d07195261a174d68",
   "outputs": [
    {
     "name": "stdout",
     "output_type": "stream",
     "text": [
      "[2025-03-24 21:53:33]  LOG APPEND: 2025-03-24 21:53:33,2.92,3.24,0,2.92,245.82\n"
     ]
    }
   ],
   "execution_count": 100
  },
  {
   "metadata": {
    "ExecuteTime": {
     "end_time": "2025-03-24T14:40:44.817929Z",
     "start_time": "2025-03-24T14:40:44.753162Z"
    }
   },
   "cell_type": "code",
   "source": [
    "trust_bot_element = WebDriverWait(driver, 1).until(\n",
    "    EC.element_to_be_clickable((By.XPATH, \"//div[span[contains(text(), 'Yes, I trust')]]\"))\n",
    ")\n",
    "trust_bot_element.click()"
   ],
   "id": "944bfb3a7f33c68a",
   "outputs": [],
   "execution_count": 62
  }
 ],
 "metadata": {
  "kernelspec": {
   "display_name": "Python 3",
   "language": "python",
   "name": "python3"
  },
  "language_info": {
   "codemirror_mode": {
    "name": "ipython",
    "version": 2
   },
   "file_extension": ".py",
   "mimetype": "text/x-python",
   "name": "python",
   "nbconvert_exporter": "python",
   "pygments_lexer": "ipython2",
   "version": "2.7.6"
  }
 },
 "nbformat": 4,
 "nbformat_minor": 5
}
