{
 "cells": [
  {
   "metadata": {},
   "cell_type": "code",
   "source": [
    "from selenium import webdriver\n",
    "from selenium.webdriver.common.by import By\n",
    "from selenium.webdriver.support.ui import WebDriverWait\n",
    "from selenium.webdriver.support import expected_conditions as EC\n",
    "from selenium.webdriver.edge.service import Service\n",
    "from itertools import combinations\n",
    "\n",
    "import time\n"
   ],
   "id": "1f32d80b10f1f485",
   "outputs": [],
   "execution_count": null
  },
  {
   "cell_type": "code",
   "id": "initial_id",
   "metadata": {
    "collapsed": true
   },
   "source": [
    "EDGE_DRIVER_PATH = \"edgedriver_win32/msedgedriver.exe\"\n",
    "driver = webdriver.Edge(service=Service(EDGE_DRIVER_PATH))"
   ],
   "outputs": [],
   "execution_count": null
  },
  {
   "metadata": {},
   "cell_type": "code",
   "source": "wait = WebDriverWait(driver, 10)",
   "id": "5c8004117d755f86",
   "outputs": [],
   "execution_count": null
  },
  {
   "metadata": {},
   "cell_type": "code",
   "source": "driver.get(\"https://rustypot.com/coinflip\")",
   "id": "fab21f6da5a052a4",
   "outputs": [],
   "execution_count": null
  },
  {
   "metadata": {},
   "cell_type": "code",
   "source": [
    "def get_possible_bet_values(inventory_items_values, max_items=3):\n",
    "    possible_bet_values = {}\n",
    "    for r in range(1, max_items):\n",
    "        for combo in combinations(inventory_items_values, r):\n",
    "            s = sum(combo)\n",
    "            max_tax = s * 2 * 0.05\n",
    "            good_combo = True\n",
    "            for item_value in combo:\n",
    "                if item_value < max_tax:\n",
    "                    good_combo = False\n",
    "            if good_combo:\n",
    "                possible_bet_values[s] = combo\n",
    "    possible_bet_values_sorted = dict(sorted(possible_bet_values.items()))\n",
    "    \n",
    "    return possible_bet_values_sorted"
   ],
   "id": "acb11f21ba321d7",
   "outputs": [],
   "execution_count": null
  },
  {
   "metadata": {},
   "cell_type": "code",
   "source": [
    "def get_inventory_items():\n",
    "    create_a_game_buttom_locator = (By.CLASS_NAME, \"createCoinflipButton\")\n",
    "    create_a_game_buttom = WebDriverWait(driver, 10).until(\n",
    "        EC.presence_of_element_located(create_a_game_buttom_locator)\n",
    "    )\n",
    "    create_a_game_buttom.click()\n",
    "    inventory_items_div_locator = (By.CLASS_NAME, \"depositInventory\")\n",
    "    inventory_items_div = WebDriverWait(driver, 10).until(\n",
    "        EC.presence_of_element_located(inventory_items_div_locator)\n",
    "    )\n",
    "    time.sleep(1)\n",
    "    inventory_items = inventory_items_div.find_elements(By.CLASS_NAME, \"InventoryItem\")\n",
    "    inventory_items_values = []\n",
    "    for inventory_item in inventory_items:\n",
    "        inventory_items_values.append(float(inventory_item.text[1:]))\n",
    "    \n",
    "    driver.get(\"https://rustypot.com/coinflip\")\n",
    "    \n",
    "    print(\"inventory items gathered: \", inventory_items_values)\n",
    "    \n",
    "    return inventory_items_values"
   ],
   "id": "10b01725b14804e6",
   "outputs": [],
   "execution_count": null
  },
  {
   "metadata": {},
   "cell_type": "code",
   "source": [
    "inventory_items_values = [62.31, 31.75, 31.75, 20.86, 17.38, 13.34, 13.34]\n",
    "\n",
    "# inventory_items = [i for i in range(1, 21, 3)]\n",
    "possible_bet_values = get_possible_bet_values(inventory_items_values)\n",
    "possible_bet_values"
   ],
   "id": "dec48393617e82d1",
   "outputs": [],
   "execution_count": null
  },
  {
   "metadata": {},
   "cell_type": "code",
   "source": [
    "try:\n",
    "    inventory_items_values = get_inventory_items()\n",
    "except Exception as e:\n",
    "    driver.get(\"https://rustypot.com/coinflip\")\n",
    "    time.sleep(2)\n",
    "    inventory_items_values = get_inventory_items()\n",
    "finally:\n",
    "    if len(inventory_items_values) == 0:\n",
    "        get_inventory_items()\n",
    "        \n",
    "possible_bet_values = get_possible_bet_values(inventory_items_values)\n",
    "print(possible_bet_values)"
   ],
   "id": "fa49c77554a4e9f7",
   "outputs": [],
   "execution_count": null
  },
  {
   "metadata": {},
   "cell_type": "code",
   "source": [
    "bets = []\n",
    "counter = 0\n",
    "while True:\n",
    "\n",
    "    active_coinflips = wait.until(EC.presence_of_element_located((By.CLASS_NAME, \"ActiveCoinflips\")))\n",
    "    coinflip_row_divs = active_coinflips.find_elements(By.CLASS_NAME, \"coinflip\")\n",
    "    \n",
    "    # print(f\"{len(coinflip_divs)} active games\")\n",
    "    for coinflip_div in coinflip_row_divs:\n",
    "        coinflip_value = float(coinflip_div.get_attribute(\"coinflip-value\"))\n",
    "        coinflip_items = coinflip_div.find_element(By.CLASS_NAME, \"coinflipGameItems\")\n",
    "        \n",
    "        if \"items\" in coinflip_items.text:\n",
    "            # print(\"more than 5 items...\")\n",
    "            continue\n",
    "        img_elements = coinflip_items.find_elements(By.TAG_NAME, \"img\")\n",
    "        \n",
    "        coinflip_items_values = []\n",
    "        for img in img_elements:\n",
    "            title = img.get_attribute(\"data-original-title\")\n",
    "            if \"|\" in title:\n",
    "                price_str = title.split(\"$\")[-1]\n",
    "                price = float(price_str)\n",
    "                coinflip_items_values.append(price)\n",
    "    \n",
    "        possible_tax_value = coinflip_value * 2 * 0.05\n",
    "        cheapest_item_value = coinflip_items_values[-1]\n",
    "        \n",
    "        if cheapest_item_value < possible_tax_value:\n",
    "            # print(f\"not profitable\")\n",
    "            continue\n",
    "        \n",
    "        # to join a cf, i need to deposit minimum value\n",
    "        for bet_value in possible_bet_values:\n",
    "            if  coinflip_value * 0.9 < bet_value < coinflip_value * 0.92 and coinflip_value not in bets:\n",
    "                bets.append(coinflip_value)\n",
    "\n",
    "                print(f\"{coinflip_value=} -> \"\n",
    "                      f\"{coinflip_items_values=} -> \"\n",
    "                      f\"Bet items= {possible_bet_values[bet_value]}\")\n",
    "                break\n",
    "        # print(f\"{coinflip_value=} -> {possible_tax_value=:.2f} -> {cheapest_item_value=:.2f}\")\n",
    "    counter += 1\n",
    "    # if counter % 100 == 0:\n",
    "    #     print(\"active - \", counter)\n",
    "    time.sleep(1)"
   ],
   "id": "5d153c197bcd8aa",
   "outputs": [],
   "execution_count": null
  }
 ],
 "metadata": {
  "kernelspec": {
   "display_name": "Python 3",
   "language": "python",
   "name": "python3"
  },
  "language_info": {
   "codemirror_mode": {
    "name": "ipython",
    "version": 2
   },
   "file_extension": ".py",
   "mimetype": "text/x-python",
   "name": "python",
   "nbconvert_exporter": "python",
   "pygments_lexer": "ipython2",
   "version": "2.7.6"
  }
 },
 "nbformat": 4,
 "nbformat_minor": 5
}
